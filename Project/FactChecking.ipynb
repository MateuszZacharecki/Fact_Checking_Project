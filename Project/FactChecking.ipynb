{
 "cells": [
  {
   "cell_type": "markdown",
   "id": "3b2a1c4e-24d3-4661-9745-a2bdb33dd1dc",
   "metadata": {},
   "source": [
    "#### Mateusz Zacharecki 313549\n",
    "# Warsztaty badawcze 2 - Fact checking project"
   ]
  },
  {
   "cell_type": "code",
   "execution_count": 32,
   "id": "4c1d4219-08c1-4685-9deb-e52d603d6f00",
   "metadata": {},
   "outputs": [],
   "source": [
    "import pandas as pd\n",
    "import numpy as np\n",
    "\n",
    "from sklearn.compose import ColumnTransformer\n",
    "from sklearn.pipeline import Pipeline, FeatureUnion, make_pipeline\n",
    "from sklearn.feature_extraction.text import TfidfVectorizer, HashingVectorizer, CountVectorizer\n",
    "from sklearn.metrics import roc_auc_score\n",
    "from sklearn.linear_model import LogisticRegression\n",
    "from transformers import BertTokenizer, BertModel\n",
    "from sklearn.model_selection import train_test_split, cross_val_score\n",
    "from sklearn.decomposition import NMF, TruncatedSVD, LatentDirichletAllocation\n",
    "from sklearn.preprocessing import FunctionTransformer, TargetEncoder, OneHotEncoder, StandardScaler, MinMaxScaler\n",
    "from sklearn.impute import SimpleImputer\n",
    "import spacy\n",
    "import category_encoders as ce\n",
    "from doc2vec_sklearn import Doc2VecVectorizer\n",
    "import transformers\n",
    "from scipy.special import expit\n",
    "from sklearn.ensemble import VotingClassifier"
   ]
  },
  {
   "cell_type": "code",
   "execution_count": 2,
   "id": "7b038cd7-3fb5-47a4-910b-5653594f216f",
   "metadata": {},
   "outputs": [],
   "source": [
    "train = pd.read_csv(\"train.tsv\", sep='\\t')\n",
    "test = pd.read_csv(\"test_noy.tsv\", sep='\\t')"
   ]
  },
  {
   "cell_type": "markdown",
   "id": "001f4a04-abbc-4698-8f4d-464b0785262d",
   "metadata": {},
   "source": [
    "## EDA"
   ]
  },
  {
   "cell_type": "code",
   "execution_count": 3,
   "id": "958d70d2-a34a-412e-99df-7059d2521206",
   "metadata": {},
   "outputs": [
    {
     "data": {
      "text/html": [
       "<div>\n",
       "<style scoped>\n",
       "    .dataframe tbody tr th:only-of-type {\n",
       "        vertical-align: middle;\n",
       "    }\n",
       "\n",
       "    .dataframe tbody tr th {\n",
       "        vertical-align: top;\n",
       "    }\n",
       "\n",
       "    .dataframe thead th {\n",
       "        text-align: right;\n",
       "    }\n",
       "</style>\n",
       "<table border=\"1\" class=\"dataframe\">\n",
       "  <thead>\n",
       "    <tr style=\"text-align: right;\">\n",
       "      <th></th>\n",
       "      <th>label</th>\n",
       "      <th>statement</th>\n",
       "      <th>subject</th>\n",
       "      <th>speaker</th>\n",
       "      <th>speaker_job</th>\n",
       "      <th>state</th>\n",
       "      <th>party</th>\n",
       "      <th>context</th>\n",
       "    </tr>\n",
       "  </thead>\n",
       "  <tbody>\n",
       "    <tr>\n",
       "      <th>0</th>\n",
       "      <td>half-true</td>\n",
       "      <td>When did the decline of coal start? It started...</td>\n",
       "      <td>energy,history,job-accomplishments</td>\n",
       "      <td>scott-surovell</td>\n",
       "      <td>State delegate</td>\n",
       "      <td>Virginia</td>\n",
       "      <td>democrat</td>\n",
       "      <td>a floor speech.</td>\n",
       "    </tr>\n",
       "    <tr>\n",
       "      <th>1</th>\n",
       "      <td>mostly-true</td>\n",
       "      <td>Hillary Clinton agrees with John McCain \"by vo...</td>\n",
       "      <td>foreign-policy</td>\n",
       "      <td>barack-obama</td>\n",
       "      <td>President</td>\n",
       "      <td>Illinois</td>\n",
       "      <td>democrat</td>\n",
       "      <td>Denver</td>\n",
       "    </tr>\n",
       "    <tr>\n",
       "      <th>2</th>\n",
       "      <td>false</td>\n",
       "      <td>Health care reform legislation is likely to ma...</td>\n",
       "      <td>health-care</td>\n",
       "      <td>blog-posting</td>\n",
       "      <td>NaN</td>\n",
       "      <td>NaN</td>\n",
       "      <td>none</td>\n",
       "      <td>a news release</td>\n",
       "    </tr>\n",
       "    <tr>\n",
       "      <th>3</th>\n",
       "      <td>half-true</td>\n",
       "      <td>The economic turnaround started at the end of ...</td>\n",
       "      <td>economy,jobs</td>\n",
       "      <td>charlie-crist</td>\n",
       "      <td>NaN</td>\n",
       "      <td>Florida</td>\n",
       "      <td>democrat</td>\n",
       "      <td>an interview on CNN</td>\n",
       "    </tr>\n",
       "    <tr>\n",
       "      <th>4</th>\n",
       "      <td>true</td>\n",
       "      <td>The Chicago Bears have had more starting quart...</td>\n",
       "      <td>education</td>\n",
       "      <td>robin-vos</td>\n",
       "      <td>Wisconsin Assembly speaker</td>\n",
       "      <td>Wisconsin</td>\n",
       "      <td>republican</td>\n",
       "      <td>a an online opinion-piece</td>\n",
       "    </tr>\n",
       "  </tbody>\n",
       "</table>\n",
       "</div>"
      ],
      "text/plain": [
       "         label                                          statement  \\\n",
       "0    half-true  When did the decline of coal start? It started...   \n",
       "1  mostly-true  Hillary Clinton agrees with John McCain \"by vo...   \n",
       "2        false  Health care reform legislation is likely to ma...   \n",
       "3    half-true  The economic turnaround started at the end of ...   \n",
       "4         true  The Chicago Bears have had more starting quart...   \n",
       "\n",
       "                              subject         speaker  \\\n",
       "0  energy,history,job-accomplishments  scott-surovell   \n",
       "1                      foreign-policy    barack-obama   \n",
       "2                         health-care    blog-posting   \n",
       "3                        economy,jobs   charlie-crist   \n",
       "4                           education       robin-vos   \n",
       "\n",
       "                  speaker_job      state       party  \\\n",
       "0              State delegate   Virginia    democrat   \n",
       "1                   President   Illinois    democrat   \n",
       "2                         NaN        NaN        none   \n",
       "3                         NaN    Florida    democrat   \n",
       "4  Wisconsin Assembly speaker  Wisconsin  republican   \n",
       "\n",
       "                     context  \n",
       "0            a floor speech.  \n",
       "1                     Denver  \n",
       "2             a news release  \n",
       "3        an interview on CNN  \n",
       "4  a an online opinion-piece  "
      ]
     },
     "execution_count": 3,
     "metadata": {},
     "output_type": "execute_result"
    }
   ],
   "source": [
    "train.head()"
   ]
  },
  {
   "cell_type": "code",
   "execution_count": 4,
   "id": "b860b450-08eb-4269-be22-590762c16bd9",
   "metadata": {},
   "outputs": [
    {
     "data": {
      "text/plain": [
       "label             0\n",
       "statement         0\n",
       "subject           0\n",
       "speaker           0\n",
       "speaker_job    2902\n",
       "state          2211\n",
       "party             0\n",
       "context         100\n",
       "dtype: int64"
      ]
     },
     "execution_count": 4,
     "metadata": {},
     "output_type": "execute_result"
    }
   ],
   "source": [
    "train.isna().sum()"
   ]
  },
  {
   "cell_type": "code",
   "execution_count": 5,
   "id": "3ee481b4-16be-479f-813c-fa7fc55f389e",
   "metadata": {},
   "outputs": [
    {
     "data": {
      "text/plain": [
       "party\n",
       "republican                      4509\n",
       "democrat                        3345\n",
       "none                            1746\n",
       "organization                     220\n",
       "independent                      149\n",
       "newsmaker                         58\n",
       "activist                          40\n",
       "libertarian                       40\n",
       "journalist                        38\n",
       "columnist                         36\n",
       "talk-show-host                    26\n",
       "state-official                    20\n",
       "labor-leader                      11\n",
       "tea-party-member                  10\n",
       "business-leader                    9\n",
       "green                              3\n",
       "education-official                 2\n",
       "liberal-party-canada               1\n",
       "government-body                    1\n",
       "Moderate                           1\n",
       "democratic-farmer-labor            1\n",
       "ocean-state-tea-party-action       1\n",
       "constitution-party                 1\n",
       "Name: count, dtype: int64"
      ]
     },
     "execution_count": 5,
     "metadata": {},
     "output_type": "execute_result"
    }
   ],
   "source": [
    "train['party'].value_counts()"
   ]
  },
  {
   "cell_type": "code",
   "execution_count": 6,
   "id": "578a5fea-e33c-4772-867e-bd84fa67424f",
   "metadata": {},
   "outputs": [
    {
     "data": {
      "text/plain": [
       "state\n",
       "Texas             1008\n",
       "Florida           1001\n",
       "Wisconsin          716\n",
       "New York           658\n",
       "Illinois           562\n",
       "                  ... \n",
       "Qatar                1\n",
       "ohio                 1\n",
       "Virginia             1\n",
       "United Kingdom       1\n",
       "Rhode Island         1\n",
       "Name: count, Length: 83, dtype: int64"
      ]
     },
     "execution_count": 6,
     "metadata": {},
     "output_type": "execute_result"
    }
   ],
   "source": [
    "train['state'].value_counts()"
   ]
  },
  {
   "cell_type": "code",
   "execution_count": 7,
   "id": "2ee0aacc-4fa9-4dc1-8f2a-1bc0ab4f61a6",
   "metadata": {
    "scrolled": true
   },
   "outputs": [
    {
     "data": {
      "text/plain": [
       "speaker_job\n",
       "President                                                      497\n",
       "U.S. Senator                                                   480\n",
       "Governor                                                       391\n",
       "President-Elect                                                274\n",
       "U.S. senator                                                   263\n",
       "                                                              ... \n",
       "Executive director, NARAL Pro-Choice Virginia                    1\n",
       "State House speaker                                              1\n",
       "Chief Executive Officer for Concerned Veterans for America       1\n",
       "Solicitor General                                                1\n",
       "President, The Whitman Strategy Group                            1\n",
       "Name: count, Length: 1186, dtype: int64"
      ]
     },
     "execution_count": 7,
     "metadata": {},
     "output_type": "execute_result"
    }
   ],
   "source": [
    "train['speaker_job'].value_counts()"
   ]
  },
  {
   "cell_type": "code",
   "execution_count": 8,
   "id": "b3444243-216e-4e0e-8258-0ef0376a7738",
   "metadata": {},
   "outputs": [
    {
     "data": {
      "text/plain": [
       "speaker\n",
       "barack-obama                                   493\n",
       "donald-trump                                   274\n",
       "hillary-clinton                                239\n",
       "mitt-romney                                    180\n",
       "scott-walker                                   150\n",
       "                                              ... \n",
       "lorraine-fende                                   1\n",
       "nfederation-o-independent-business-virginia      1\n",
       "jim-moore                                        1\n",
       "penny-pritzker                                   1\n",
       "alan-powell                                      1\n",
       "Name: count, Length: 2915, dtype: int64"
      ]
     },
     "execution_count": 8,
     "metadata": {},
     "output_type": "execute_result"
    }
   ],
   "source": [
    "train['speaker'].value_counts()"
   ]
  },
  {
   "cell_type": "code",
   "execution_count": 9,
   "id": "f89d576b-a974-4914-8c3c-785e0e07eacf",
   "metadata": {},
   "outputs": [
    {
     "data": {
      "text/plain": [
       "label\n",
       "half-true      2123\n",
       "false          1997\n",
       "mostly-true    1966\n",
       "true           1683\n",
       "barely-true    1657\n",
       "pants-fire      842\n",
       "Name: count, dtype: int64"
      ]
     },
     "execution_count": 9,
     "metadata": {},
     "output_type": "execute_result"
    }
   ],
   "source": [
    "train['label'].value_counts()"
   ]
  },
  {
   "cell_type": "code",
   "execution_count": 10,
   "id": "b39b08f8-4b09-4b63-8d11-c9c9186bac03",
   "metadata": {},
   "outputs": [
    {
     "data": {
      "text/plain": [
       "array(['energy,history,job-accomplishments', 'foreign-policy',\n",
       "       'health-care', ..., 'animals,elections',\n",
       "       'retirement,social-security', 'florida,foreign-policy'],\n",
       "      dtype=object)"
      ]
     },
     "execution_count": 10,
     "metadata": {},
     "output_type": "execute_result"
    }
   ],
   "source": [
    "train['subject'].unique()"
   ]
  },
  {
   "cell_type": "code",
   "execution_count": 11,
   "id": "2b1d6732-76a7-4414-833d-b97e147c2751",
   "metadata": {},
   "outputs": [
    {
     "data": {
      "text/html": [
       "<div>\n",
       "<style scoped>\n",
       "    .dataframe tbody tr th:only-of-type {\n",
       "        vertical-align: middle;\n",
       "    }\n",
       "\n",
       "    .dataframe tbody tr th {\n",
       "        vertical-align: top;\n",
       "    }\n",
       "\n",
       "    .dataframe thead th {\n",
       "        text-align: right;\n",
       "    }\n",
       "</style>\n",
       "<table border=\"1\" class=\"dataframe\">\n",
       "  <thead>\n",
       "    <tr style=\"text-align: right;\">\n",
       "      <th></th>\n",
       "      <th>label</th>\n",
       "      <th>statement</th>\n",
       "      <th>subject</th>\n",
       "      <th>speaker</th>\n",
       "      <th>speaker_job</th>\n",
       "      <th>state</th>\n",
       "      <th>party</th>\n",
       "      <th>context</th>\n",
       "    </tr>\n",
       "  </thead>\n",
       "  <tbody>\n",
       "    <tr>\n",
       "      <th>0</th>\n",
       "      <td>--</td>\n",
       "      <td>Wisconsin is on pace to double the number of l...</td>\n",
       "      <td>jobs</td>\n",
       "      <td>katrina-shankland</td>\n",
       "      <td>State representative</td>\n",
       "      <td>Wisconsin</td>\n",
       "      <td>democrat</td>\n",
       "      <td>a news conference</td>\n",
       "    </tr>\n",
       "    <tr>\n",
       "      <th>1</th>\n",
       "      <td>--</td>\n",
       "      <td>Says John McCain has done nothing to help the ...</td>\n",
       "      <td>military,veterans,voting-record</td>\n",
       "      <td>donald-trump</td>\n",
       "      <td>President-Elect</td>\n",
       "      <td>New York</td>\n",
       "      <td>republican</td>\n",
       "      <td>comments on ABC's This Week.</td>\n",
       "    </tr>\n",
       "    <tr>\n",
       "      <th>2</th>\n",
       "      <td>--</td>\n",
       "      <td>Suzanne Bonamici supports a plan that will cut...</td>\n",
       "      <td>medicare,message-machine-2012,campaign-adverti...</td>\n",
       "      <td>rob-cornilles</td>\n",
       "      <td>consultant</td>\n",
       "      <td>Oregon</td>\n",
       "      <td>republican</td>\n",
       "      <td>a radio show</td>\n",
       "    </tr>\n",
       "    <tr>\n",
       "      <th>3</th>\n",
       "      <td>--</td>\n",
       "      <td>When asked by a reporter whether hes at the ce...</td>\n",
       "      <td>campaign-finance,legal-issues,campaign-adverti...</td>\n",
       "      <td>state-democratic-party-wisconsin</td>\n",
       "      <td>NaN</td>\n",
       "      <td>Wisconsin</td>\n",
       "      <td>democrat</td>\n",
       "      <td>a web video</td>\n",
       "    </tr>\n",
       "    <tr>\n",
       "      <th>4</th>\n",
       "      <td>--</td>\n",
       "      <td>Over the past five years the federal governmen...</td>\n",
       "      <td>federal-budget,pensions,retirement</td>\n",
       "      <td>brendan-doherty</td>\n",
       "      <td>NaN</td>\n",
       "      <td>Rhode Island</td>\n",
       "      <td>republican</td>\n",
       "      <td>a campaign website</td>\n",
       "    </tr>\n",
       "  </tbody>\n",
       "</table>\n",
       "</div>"
      ],
      "text/plain": [
       "  label                                          statement  \\\n",
       "0    --  Wisconsin is on pace to double the number of l...   \n",
       "1    --  Says John McCain has done nothing to help the ...   \n",
       "2    --  Suzanne Bonamici supports a plan that will cut...   \n",
       "3    --  When asked by a reporter whether hes at the ce...   \n",
       "4    --  Over the past five years the federal governmen...   \n",
       "\n",
       "                                             subject  \\\n",
       "0                                               jobs   \n",
       "1                    military,veterans,voting-record   \n",
       "2  medicare,message-machine-2012,campaign-adverti...   \n",
       "3  campaign-finance,legal-issues,campaign-adverti...   \n",
       "4                 federal-budget,pensions,retirement   \n",
       "\n",
       "                            speaker           speaker_job         state  \\\n",
       "0                 katrina-shankland  State representative     Wisconsin   \n",
       "1                      donald-trump       President-Elect      New York   \n",
       "2                     rob-cornilles            consultant        Oregon   \n",
       "3  state-democratic-party-wisconsin                   NaN     Wisconsin   \n",
       "4                   brendan-doherty                   NaN  Rhode Island   \n",
       "\n",
       "        party                       context  \n",
       "0    democrat             a news conference  \n",
       "1  republican  comments on ABC's This Week.  \n",
       "2  republican                  a radio show  \n",
       "3    democrat                   a web video  \n",
       "4  republican            a campaign website  "
      ]
     },
     "execution_count": 11,
     "metadata": {},
     "output_type": "execute_result"
    }
   ],
   "source": [
    "test.head()"
   ]
  },
  {
   "cell_type": "code",
   "execution_count": 12,
   "id": "b7e1a356-28a5-486a-a707-08a8f74e9fa8",
   "metadata": {},
   "outputs": [],
   "source": [
    "label = train.label\n",
    "train = train.drop(['label'], axis = 1)"
   ]
  },
  {
   "cell_type": "code",
   "execution_count": 13,
   "id": "45cdeb3a-8d4e-41df-a0f4-b165e51146fc",
   "metadata": {},
   "outputs": [],
   "source": [
    "test = test.drop(['label'], axis = 1)"
   ]
  },
  {
   "cell_type": "code",
   "execution_count": 14,
   "id": "d65a0d3e-250e-41c9-939a-b8de10754d63",
   "metadata": {},
   "outputs": [],
   "source": [
    "label = label.map({'pants-fire': 1, 'half-true': 0, 'false': 0, 'mostly-true': 0, 'true': 0, 'barely-true': 0})"
   ]
  },
  {
   "cell_type": "code",
   "execution_count": 15,
   "id": "f986a017-e29a-41cc-bb96-59c6b4db757f",
   "metadata": {},
   "outputs": [],
   "source": [
    "colnames = list(train.columns)"
   ]
  },
  {
   "cell_type": "code",
   "execution_count": 16,
   "id": "83d61b5a-8779-453a-ac28-a8ba5d80cfec",
   "metadata": {},
   "outputs": [],
   "source": [
    "train = train.fillna(\"\")\n",
    "test = test.fillna(\"\")"
   ]
  },
  {
   "cell_type": "markdown",
   "id": "10d09fd7-855a-454a-b8a8-2a0e6bc26735",
   "metadata": {},
   "source": [
    "### Target encoder for state and party columns"
   ]
  },
  {
   "cell_type": "code",
   "execution_count": 17,
   "id": "3437a0d6-77dc-4f89-8b17-5604dc31f836",
   "metadata": {},
   "outputs": [],
   "source": [
    "def target_encode(X, label):\n",
    "    encoder = TargetEncoder()\n",
    "    X[['state', 'party']] = encoder.fit_transform(X[['state', 'party']], label)\n",
    "    return X"
   ]
  },
  {
   "cell_type": "markdown",
   "id": "8f5f8809-4ea8-4115-b826-45c5c441c07d",
   "metadata": {},
   "source": [
    "### Length of sentences extractor (for statement column)"
   ]
  },
  {
   "cell_type": "code",
   "execution_count": 18,
   "id": "c96a814e-9cea-43f9-9561-9301fa8f4364",
   "metadata": {},
   "outputs": [],
   "source": [
    "def extract_text_features(s):\n",
    "    s = s.astype('str')\n",
    "    n = s.str.len().values\n",
    "    #n = np.log1p(n)\n",
    "    return np.column_stack([n])"
   ]
  },
  {
   "cell_type": "markdown",
   "id": "78eff221-700e-47be-aad8-ca3174be59da",
   "metadata": {},
   "source": [
    "### One hot encoder"
   ]
  },
  {
   "cell_type": "code",
   "execution_count": 19,
   "id": "f5d0e21f-d80f-471a-9f41-5288164ffacd",
   "metadata": {},
   "outputs": [],
   "source": [
    "def one_hot_encoder(X):\n",
    "    X = X.str.split(',')\n",
    "    all_types = set(i for sublist in X.dropna() for i in sublist if i)\n",
    "    return pd.DataFrame({f'{j}': X.apply(lambda x: int(j in x) if isinstance(x, list) else 0) for j in all_types})"
   ]
  },
  {
   "cell_type": "markdown",
   "id": "a603444d-fc48-40af-830d-09728c972c73",
   "metadata": {},
   "source": [
    "### Lemmatizer for statement"
   ]
  },
  {
   "cell_type": "code",
   "execution_count": 20,
   "id": "4b26348b-d645-4277-adba-39ca650080be",
   "metadata": {},
   "outputs": [],
   "source": [
    "def lemmatize_pos(x):\n",
    "    l = []\n",
    "    for d in x:\n",
    "        l.append(\" \".join(t.lemma_ + \" \" + t.tag_ for t in d))\n",
    "    return l"
   ]
  },
  {
   "cell_type": "markdown",
   "id": "680055bb-ad4c-4b3f-b4cf-e4c3abc875e8",
   "metadata": {},
   "source": [
    "### NER for statement"
   ]
  },
  {
   "cell_type": "code",
   "execution_count": 21,
   "id": "29e250da-e66d-4c87-9f41-991f09a12b0f",
   "metadata": {},
   "outputs": [],
   "source": [
    "def ner(x):\n",
    "    l = []\n",
    "    for d in x:\n",
    "        l.append(\" \".join(e.label_ for e in d.ents))\n",
    "    return l"
   ]
  },
  {
   "cell_type": "code",
   "execution_count": 22,
   "id": "4ac390ac-810b-4b66-80c1-8d17d6f3bded",
   "metadata": {},
   "outputs": [],
   "source": [
    "nlp = spacy.load(\"en_core_web_lg\")\n",
    "train[\"statement_spacy\"] = list(nlp.pipe(train.statement))\n",
    "test[\"statement_spacy\"] = list(nlp.pipe(test.statement))"
   ]
  },
  {
   "cell_type": "code",
   "execution_count": 23,
   "id": "89980cb4-ed64-4ddf-b9bd-d639f78d75f2",
   "metadata": {},
   "outputs": [],
   "source": [
    "LemmatizerPos = FunctionTransformer(lemmatize_pos)\n",
    "Nerer = FunctionTransformer(ner)"
   ]
  },
  {
   "cell_type": "markdown",
   "id": "23a55e79-a1ca-49cb-999d-11521bf3e046",
   "metadata": {},
   "source": [
    "### Bert tokenizer for statement"
   ]
  },
  {
   "cell_type": "code",
   "execution_count": null,
   "id": "c91450ec-34e5-4e33-a3ca-35d24a783abd",
   "metadata": {},
   "outputs": [],
   "source": [
    "tokenizer = BertTokenizer.from_pretrained('bert-base-uncased')\n",
    "model = BertModel.from_pretrained('bert-base-uncased')\n",
    "\n",
    "def get_bert_embedding(text):\n",
    "    inputs = tokenizer(text, return_tensors=\"pt\", truncation=True, padding=True, max_length=128)\n",
    "    outputs = model(**inputs)\n",
    "    embedding = outputs.last_hidden_state.mean(dim=1).squeeze().detach().numpy()\n",
    "    return embedding\n",
    "\n",
    "statement_bert = np.array([get_bert_embedding(statement) for statement in train['statement']])\n",
    "statement_bert_test = np.array([get_bert_embedding(statement) for statement in test['statement']])"
   ]
  },
  {
   "cell_type": "code",
   "execution_count": null,
   "id": "97c3e265-fd40-41a1-8d7c-7a8b88a709ba",
   "metadata": {},
   "outputs": [],
   "source": [
    "def minmax_scaler(X, feature_range=(0, 1)):\n",
    "    X_min = np.min(X, axis=0)\n",
    "    X_max = np.max(X, axis=0)\n",
    "    \n",
    "    X_scaled = (X - X_min) / (X_max - X_min)\n",
    "    X_scaled = X_scaled * (feature_range[1] - feature_range[0]) + feature_range[0]\n",
    "    \n",
    "    return X_scaled"
   ]
  },
  {
   "cell_type": "code",
   "execution_count": null,
   "id": "543ef12a-4187-4320-8e71-9d850a60c6ae",
   "metadata": {},
   "outputs": [],
   "source": [
    "def standard_scaler(X):\n",
    "    X_scaled = (X - np.mean(X, axis=0)) / np.std(X, axis=0)\n",
    "    \n",
    "    return X_scaled"
   ]
  },
  {
   "cell_type": "code",
   "execution_count": null,
   "id": "2e79d3b2-6e52-4a08-964d-776146ae55da",
   "metadata": {},
   "outputs": [],
   "source": [
    "statement_scaled = minmax_scaler(pd.DataFrame(statement_bert))\n",
    "statement_scaled_test = minmax_scaler(pd.DataFrame(statement_bert_test))"
   ]
  },
  {
   "cell_type": "code",
   "execution_count": null,
   "id": "d9936906-38ab-4f59-b14c-48e5d3c2ea4f",
   "metadata": {},
   "outputs": [],
   "source": [
    "train_bert = pd.concat([train, statement_scaled], axis=1)\n",
    "train_bert.columns = train_bert.columns.astype(str)\n",
    "test_bert = pd.concat([test, statement_scaled_test], axis=1)\n",
    "test_bert.columns = test_bert.columns.astype(str)"
   ]
  },
  {
   "cell_type": "markdown",
   "id": "802a018d-1e3a-445d-b9a0-877874502f6a",
   "metadata": {},
   "source": [
    "## Pipeline"
   ]
  },
  {
   "cell_type": "code",
   "execution_count": 25,
   "id": "0d627c0d-56db-4a28-8a13-3ec46127e115",
   "metadata": {},
   "outputs": [],
   "source": [
    "text_feature_pipeline = Pipeline([\n",
    "    ('function', FunctionTransformer(func=extract_text_features, validate=False)),\n",
    "    ('scaler', MinMaxScaler())\n",
    "])"
   ]
  },
  {
   "cell_type": "code",
   "execution_count": 26,
   "id": "373959bc-af63-4e81-ba1b-4d422c08ba32",
   "metadata": {},
   "outputs": [],
   "source": [
    "ct_tfidf = ColumnTransformer(\n",
    "    transformers=[\n",
    "        ('function', text_feature_pipeline, 'statement'),\n",
    "        #('statement', TfidfVectorizer(max_features=500, stop_words='english'), 'statement'),\n",
    "        (\"statement\", make_pipeline(LemmatizerPos, TfidfVectorizer()), \"statement_spacy\"),\n",
    "        (\"statement_ner\", make_pipeline(Nerer, CountVectorizer()), \"statement_spacy\"),\n",
    "        ('subject', TfidfVectorizer(max_features=500, stop_words='english'), 'subject'),\n",
    "        ('speaker', TfidfVectorizer(max_features=500, stop_words='english'), 'speaker'),\n",
    "        ('speaker_job', TfidfVectorizer(max_features=500, stop_words='english'), 'speaker_job'),\n",
    "        ('context', TfidfVectorizer(max_features=500, stop_words='english'), 'context'),\n",
    "        ('cat', ce.TargetEncoder(), ['state', 'party']),\n",
    "    ],\n",
    "    remainder='passthrough'\n",
    ")\n",
    "\n",
    "ct_count = ColumnTransformer(\n",
    "    transformers=[\n",
    "        ('function', text_feature_pipeline, 'statement'),\n",
    "        # ('statement', CountVectorizer(stop_words='english'), 'statement'),\n",
    "        (\"statement\", make_pipeline(LemmatizerPos, TfidfVectorizer()), \"statement_spacy\"),\n",
    "        (\"statement_ner\", make_pipeline(Nerer, CountVectorizer()), \"statement_spacy\"),\n",
    "        ('subject', CountVectorizer(stop_words='english', binary=True), 'subject'),\n",
    "        ('speaker', CountVectorizer(stop_words='english'), 'speaker'),\n",
    "        ('speaker_job', CountVectorizer(stop_words='english'), 'speaker_job'),\n",
    "        ('context', CountVectorizer(stop_words='english'), 'context'),\n",
    "        ('cat', ce.TargetEncoder(), ['state', 'party']),\n",
    "    ],\n",
    "    remainder='passthrough'\n",
    ")\n",
    "\n",
    "ct_hashing = ColumnTransformer(\n",
    "    transformers=[\n",
    "        ('function', text_feature_pipeline, 'statement'),\n",
    "        # ('statement', HashingVectorizer(n_features=100), 'statement'),\n",
    "        (\"statement\", make_pipeline(LemmatizerPos, TfidfVectorizer()), \"statement_spacy\"),\n",
    "        (\"statement_ner\", make_pipeline(Nerer, CountVectorizer()), \"statement_spacy\"),\n",
    "        ('subject', HashingVectorizer(n_features=100), 'subject'),\n",
    "        ('speaker', HashingVectorizer(n_features=100), 'speaker'),\n",
    "        ('speaker_job', HashingVectorizer(n_features=100), 'speaker_job'),\n",
    "        ('context', HashingVectorizer(n_features=100), 'context'),\n",
    "        ('cat', ce.TargetEncoder(), ['state', 'party']),\n",
    "    ],\n",
    "    remainder='passthrough'\n",
    ")\n",
    "\n",
    "ct_doc2vec = ColumnTransformer(\n",
    "    transformers=[\n",
    "        ('function', text_feature_pipeline, 'statement'),\n",
    "        #'statement', Doc2VecVectorizer(), 'statement'),\n",
    "        (\"statement\", make_pipeline(LemmatizerPos, TfidfVectorizer()), \"statement_spacy\"),\n",
    "        (\"statement_ner\", make_pipeline(Nerer, CountVectorizer()), \"statement_spacy\"),\n",
    "        ('subject', Doc2VecVectorizer(), 'subject'),\n",
    "        ('speaker', Doc2VecVectorizer(), 'speaker'),\n",
    "        ('speaker_job', Doc2VecVectorizer(), 'speaker_job'),\n",
    "        ('context', Doc2VecVectorizer(), 'context'),\n",
    "        ('cat', ce.TargetEncoder(), ['state', 'party']),\n",
    "    ],\n",
    "    remainder='passthrough'\n",
    ")"
   ]
  },
  {
   "cell_type": "code",
   "execution_count": 27,
   "id": "49baff94-5c93-4ec2-a1e5-8751dacc0073",
   "metadata": {},
   "outputs": [],
   "source": [
    "svd = TruncatedSVD(n_components = 100, random_state = 124)\n",
    "nmf = NMF(n_components = 100, max_iter=1000, random_state = 124)\n",
    "lda = LatentDirichletAllocation(n_components = 100, random_state = 124)"
   ]
  },
  {
   "cell_type": "code",
   "execution_count": 28,
   "id": "77dea5b4-4742-4d69-a1c8-74f5ef2df3d2",
   "metadata": {},
   "outputs": [],
   "source": [
    "union = FeatureUnion([\n",
    "    ('svd', svd),\n",
    "    ('nmf', nmf),\n",
    "    ('identity', 'passthrough')\n",
    "])\n",
    "\n",
    "union_svd = FeatureUnion([\n",
    "    ('svd', svd),\n",
    "    ('identity', 'passthrough')\n",
    "])\n"
   ]
  },
  {
   "cell_type": "code",
   "execution_count": 29,
   "id": "36f8bedd-235b-4332-b20b-ce25266be50b",
   "metadata": {},
   "outputs": [],
   "source": [
    "pipeline_tfidf = Pipeline(steps=[\n",
    "    (\"transform\", ct_tfidf),\n",
    "    ('union', union),\n",
    "    ('model', LogisticRegression(max_iter = 5000, random_state=124))\n",
    "])\n",
    "\n",
    "pipeline_count = Pipeline(steps=[\n",
    "    (\"transform\", ct_count),\n",
    "    ('union', union),\n",
    "    ('model', LogisticRegression(random_state=124))\n",
    "])\n",
    "\n",
    "pipeline_hashing = Pipeline(steps=[\n",
    "    (\"transform\", ct_hashing),\n",
    "    ('union', union_svd),\n",
    "    ('model', LogisticRegression(random_state=124))\n",
    "])\n",
    "\n",
    "pipeline_doc2vec = Pipeline(steps=[\n",
    "    (\"transform\", ct_doc2vec),\n",
    "    ('union', union_svd),\n",
    "    ('model', LogisticRegression(random_state=124))\n",
    "])"
   ]
  },
  {
   "cell_type": "markdown",
   "id": "7e614c12-d0b4-41bf-8f6e-2d879e95adb5",
   "metadata": {},
   "source": [
    "## Training and testing"
   ]
  },
  {
   "cell_type": "code",
   "execution_count": 45,
   "id": "e8eeab37-d240-47bd-bfbe-076d26db04b7",
   "metadata": {},
   "outputs": [
    {
     "data": {
      "text/plain": [
       "0.783980528608919"
      ]
     },
     "execution_count": 45,
     "metadata": {},
     "output_type": "execute_result"
    }
   ],
   "source": [
    "# pipeline_tfidf.fit(X_train, y_train)\n",
    "# y_pred = pipeline_tfidf.predict_proba(X_test)[:, 1]\n",
    "# roc_auc_score(y_test, y_pred)"
   ]
  },
  {
   "cell_type": "code",
   "execution_count": 61,
   "id": "1759d6d0-cfd4-404b-b728-ff096aa5aad6",
   "metadata": {},
   "outputs": [
    {
     "name": "stdout",
     "output_type": "stream",
     "text": [
      "Cross-validation scores: [0.73884954 0.76274858 0.74009386 0.73831628 0.74788114]\n",
      "Mean accuracy: 0.7455778800610146\n"
     ]
    }
   ],
   "source": [
    "scores_tfidf = cross_val_score(pipeline_tfidf, train, label, cv=5, scoring='roc_auc')\n",
    "print(\"Cross-validation scores:\", scores_tfidf)\n",
    "print(\"Mean accuracy:\", scores_tfidf.mean())"
   ]
  },
  {
   "cell_type": "code",
   "execution_count": 47,
   "id": "c1d0ebe5-40e7-4590-9f62-e5404e47ba61",
   "metadata": {},
   "outputs": [],
   "source": [
    "pipeline_tfidf.fit(train, label)\n",
    "y_pred = pipeline_tfidf.decision_function(test)\n",
    "#y_prob = expit(y_pred)\n",
    "y_pred = pd.DataFrame(y_pred)\n",
    "y_pred.to_csv(\"313549_prediction.csv\", index = False, index_label = False)"
   ]
  },
  {
   "cell_type": "code",
   "execution_count": 46,
   "id": "a1c613e3-e0c3-4711-b09c-e37de8071edb",
   "metadata": {},
   "outputs": [
    {
     "name": "stdout",
     "output_type": "stream",
     "text": [
      "Cross-validation scores: [0.73634992 0.74628726 0.7272927  0.73296072 0.72466212]\n",
      "Mean accuracy: 0.7335105437591876\n"
     ]
    }
   ],
   "source": [
    "scores_count = cross_val_score(pipeline_count, train, label, cv=5, scoring='roc_auc')\n",
    "print(\"Cross-validation scores:\", scores_count)\n",
    "print(\"Mean accuracy:\", scores_count.mean())"
   ]
  },
  {
   "cell_type": "code",
   "execution_count": 47,
   "id": "cb65c093-1b40-4ce7-a9d5-69489cec4272",
   "metadata": {},
   "outputs": [
    {
     "name": "stdout",
     "output_type": "stream",
     "text": [
      "Cross-validation scores: [0.71376496 0.7383862  0.73450002 0.7308987  0.75631237]\n",
      "Mean accuracy: 0.7347724497626626\n"
     ]
    }
   ],
   "source": [
    "scores_hashing = cross_val_score(pipeline_hashing, train, label, cv=5, scoring='roc_auc')\n",
    "print(\"Cross-validation scores:\", scores_hashing)\n",
    "print(\"Mean accuracy:\", scores_hashing.mean())"
   ]
  },
  {
   "cell_type": "code",
   "execution_count": 48,
   "id": "18d5d9a6-cbce-4b56-8468-eda01191741a",
   "metadata": {},
   "outputs": [
    {
     "name": "stdout",
     "output_type": "stream",
     "text": [
      "Cross-validation scores: [0.71339885 0.76163734 0.71112646 0.73111027 0.72617153]\n",
      "Mean accuracy: 0.7286888905073028\n"
     ]
    }
   ],
   "source": [
    "scores_doc2vec = cross_val_score(pipeline_doc2vec, train, label, cv=5, scoring='roc_auc')\n",
    "print(\"Cross-validation scores:\", scores_doc2vec)\n",
    "print(\"Mean accuracy:\", scores_doc2vec.mean())"
   ]
  },
  {
   "cell_type": "markdown",
   "id": "a658db88-2a17-45a5-8b04-c2e7c42ee8d4",
   "metadata": {},
   "source": [
    "### Voting"
   ]
  },
  {
   "cell_type": "code",
   "execution_count": 35,
   "id": "180862ef-a64b-4764-8d41-c63d104e1390",
   "metadata": {},
   "outputs": [],
   "source": [
    "voter = VotingClassifier(estimators=[\n",
    "        ('tfidf', pipeline_tfidf), ('count', pipeline_count), ('hashing', pipeline_hashing)], voting='soft')"
   ]
  },
  {
   "cell_type": "code",
   "execution_count": 36,
   "id": "98d50299-b993-482a-a848-bf8396855900",
   "metadata": {},
   "outputs": [
    {
     "ename": "NameError",
     "evalue": "name 'scores_doc2vec' is not defined",
     "output_type": "error",
     "traceback": [
      "\u001b[1;31m---------------------------------------------------------------------------\u001b[0m",
      "\u001b[1;31mNameError\u001b[0m                                 Traceback (most recent call last)",
      "Cell \u001b[1;32mIn[36], line 2\u001b[0m\n\u001b[0;32m      1\u001b[0m scores_voter \u001b[38;5;241m=\u001b[39m cross_val_score(voter, train, label, cv\u001b[38;5;241m=\u001b[39m\u001b[38;5;241m5\u001b[39m, scoring\u001b[38;5;241m=\u001b[39m\u001b[38;5;124m'\u001b[39m\u001b[38;5;124mroc_auc\u001b[39m\u001b[38;5;124m'\u001b[39m)\n\u001b[1;32m----> 2\u001b[0m \u001b[38;5;28mprint\u001b[39m(\u001b[38;5;124m\"\u001b[39m\u001b[38;5;124mCross-validation scores:\u001b[39m\u001b[38;5;124m\"\u001b[39m, scores_doc2vec)\n\u001b[0;32m      3\u001b[0m \u001b[38;5;28mprint\u001b[39m(\u001b[38;5;124m\"\u001b[39m\u001b[38;5;124mMean accuracy:\u001b[39m\u001b[38;5;124m\"\u001b[39m, scores_doc2vec\u001b[38;5;241m.\u001b[39mmean())\n",
      "\u001b[1;31mNameError\u001b[0m: name 'scores_doc2vec' is not defined"
     ]
    }
   ],
   "source": [
    "scores_voter = cross_val_score(voter, train, label, cv=5, scoring='roc_auc')\n"
   ]
  },
  {
   "cell_type": "code",
   "execution_count": 37,
   "id": "cc3ffb65-bfc3-4a48-a711-481527ae15ed",
   "metadata": {},
   "outputs": [
    {
     "name": "stdout",
     "output_type": "stream",
     "text": [
      "Cross-validation scores: [0.73609428 0.75873997 0.74149075 0.74132879 0.75146204]\n",
      "Mean accuracy: 0.7458231661298125\n"
     ]
    }
   ],
   "source": [
    "print(\"Cross-validation scores:\", scores_voter)\n",
    "print(\"Mean accuracy:\", scores_voter.mean())"
   ]
  },
  {
   "cell_type": "code",
   "execution_count": 43,
   "id": "9519906f-1727-40fa-896f-90cad4b53fee",
   "metadata": {},
   "outputs": [],
   "source": [
    "voter.fit(train, label)\n",
    "y_pred = voter.predict_proba(test)"
   ]
  },
  {
   "cell_type": "code",
   "execution_count": 46,
   "id": "a4b8df7f-b060-4735-a55a-0cf116d2264b",
   "metadata": {},
   "outputs": [],
   "source": [
    "y_pred = pd.DataFrame(y_pred)\n",
    "y_pred = y_pred.loc[:,1]"
   ]
  },
  {
   "cell_type": "code",
   "execution_count": 49,
   "id": "4c0ee53d-384f-4a25-bbf5-1072b23ab137",
   "metadata": {},
   "outputs": [],
   "source": [
    "y_pred.to_csv(\"313549_prediction_voting.txt\", sep=\" \", index=False)"
   ]
  },
  {
   "cell_type": "code",
   "execution_count": null,
   "id": "ba930901-8947-48d6-93d4-b5be74d9a475",
   "metadata": {},
   "outputs": [],
   "source": []
  },
  {
   "cell_type": "code",
   "execution_count": null,
   "id": "739eed50-4367-452b-8de1-332da1678368",
   "metadata": {},
   "outputs": [],
   "source": []
  }
 ],
 "metadata": {
  "kernelspec": {
   "display_name": "Python 3 (ipykernel)",
   "language": "python",
   "name": "python3"
  },
  "language_info": {
   "codemirror_mode": {
    "name": "ipython",
    "version": 3
   },
   "file_extension": ".py",
   "mimetype": "text/x-python",
   "name": "python",
   "nbconvert_exporter": "python",
   "pygments_lexer": "ipython3",
   "version": "3.12.7"
  }
 },
 "nbformat": 4,
 "nbformat_minor": 5
}
